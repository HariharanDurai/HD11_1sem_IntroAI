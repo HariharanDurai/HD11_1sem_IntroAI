{
  "nbformat": 4,
  "nbformat_minor": 0,
  "metadata": {
    "colab": {
      "provenance": [],
      "authorship_tag": "ABX9TyNEjflD/17sdrUsBUqIJXf4",
      "include_colab_link": true
    },
    "kernelspec": {
      "name": "python3",
      "display_name": "Python 3"
    },
    "language_info": {
      "name": "python"
    }
  },
  "cells": [
    {
      "cell_type": "markdown",
      "metadata": {
        "id": "view-in-github",
        "colab_type": "text"
      },
      "source": [
        "<a href=\"https://colab.research.google.com/github/HariharanDurai/HD11_1sem_IntroAI/blob/main/Machine_Learning_Algorithm_10_August_2025.ipynb\" target=\"_parent\"><img src=\"https://colab.research.google.com/assets/colab-badge.svg\" alt=\"Open In Colab\"/></a>"
      ]
    },
    {
      "cell_type": "code",
      "execution_count": null,
      "metadata": {
        "id": "Su_rq-26HhCN"
      },
      "outputs": [],
      "source": []
    },
    {
      "cell_type": "markdown",
      "source": [
        "https://www.kaggle.com/code/alexisbcook/cross-validation"
      ],
      "metadata": {
        "id": "Gz2Tq3313e1a"
      }
    },
    {
      "cell_type": "markdown",
      "source": [
        "https://www.kaggle.com/code/alirezahasannejad/data-preprocessing-in-machine-learning"
      ],
      "metadata": {
        "id": "CEqCG7uZ3fyV"
      }
    },
    {
      "cell_type": "code",
      "source": [],
      "metadata": {
        "id": "XDc4wMwT3l23"
      },
      "execution_count": null,
      "outputs": []
    }
  ]
}